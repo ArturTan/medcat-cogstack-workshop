{
 "cells": [
  {
   "cell_type": "code",
   "execution_count": 14,
   "metadata": {},
   "outputs": [],
   "source": [
    "from medcat.cogstack.cogstack_conn import CogStackConn\n",
    "import pandas as pd\n",
    "import numpy as np"
   ]
  },
  {
   "cell_type": "markdown",
   "metadata": {},
   "source": [
    "## Connect to CogStack"
   ]
  },
  {
   "cell_type": "code",
   "execution_count": 15,
   "metadata": {},
   "outputs": [],
   "source": [
    "INDEX = 'sample_observations_view'\n",
    "HOST = '10.200.112.166'"
   ]
  },
  {
   "cell_type": "code",
   "execution_count": 16,
   "metadata": {},
   "outputs": [
    {
     "name": "stdout",
     "output_type": "stream",
     "text": [
      "Username:\n",
      "Password:········\n"
     ]
    }
   ],
   "source": [
    "conn = CogStackConn(HOST, scheme='http')"
   ]
  },
  {
   "cell_type": "markdown",
   "metadata": {},
   "source": [
    "## Get the data (records that contain text)"
   ]
  },
  {
   "cell_type": "code",
   "execution_count": 17,
   "metadata": {},
   "outputs": [],
   "source": [
    "query = {\n",
    "  \"query\": {\n",
    "      \"bool\": {\n",
    "          \"must_not\": {\n",
    "              \"term\": {\"encounter_document\": \"none\"}\n",
    "          },\n",
    "      },\n",
    "  },\n",
    "  \"_source\": ['encounter_document', 'patient_gender', 'patient_id', 'patient_birth_date']\n",
    "}"
   ]
  },
  {
   "cell_type": "code",
   "execution_count": 18,
   "metadata": {},
   "outputs": [],
   "source": [
    "docs = conn.get_docs_generator(query=query, index=INDEX, es_gen_size=10000)"
   ]
  },
  {
   "cell_type": "markdown",
   "metadata": {},
   "source": [
    "## Put all the data in a CSV"
   ]
  },
  {
   "cell_type": "code",
   "execution_count": 19,
   "metadata": {},
   "outputs": [],
   "source": [
    "data = [['subject_id', 'text', 'dob', 'gender']]"
   ]
  },
  {
   "cell_type": "code",
   "execution_count": 20,
   "metadata": {},
   "outputs": [],
   "source": [
    "for doc in docs:\n",
    "    one_row = []\n",
    "    one_row.append(doc['_source']['patient_id']) # subject_id\n",
    "    one_row.append(doc['_source']['encounter_document']) # text\n",
    "    one_row.append(doc['_source']['patient_birth_date']) # dob\n",
    "    one_row.append(doc['_source']['patient_gender']) # gender\n",
    "    \n",
    "    data.append(one_row)"
   ]
  },
  {
   "cell_type": "code",
   "execution_count": 21,
   "metadata": {},
   "outputs": [],
   "source": [
    "df = pd.DataFrame(data[1:], columns=data[0])"
   ]
  },
  {
   "cell_type": "code",
   "execution_count": 22,
   "metadata": {},
   "outputs": [
    {
     "data": {
      "text/html": [
       "<div>\n",
       "<style scoped>\n",
       "    .dataframe tbody tr th:only-of-type {\n",
       "        vertical-align: middle;\n",
       "    }\n",
       "\n",
       "    .dataframe tbody tr th {\n",
       "        vertical-align: top;\n",
       "    }\n",
       "\n",
       "    .dataframe thead th {\n",
       "        text-align: right;\n",
       "    }\n",
       "</style>\n",
       "<table border=\"1\" class=\"dataframe\">\n",
       "  <thead>\n",
       "    <tr style=\"text-align: right;\">\n",
       "      <th></th>\n",
       "      <th>subject_id</th>\n",
       "      <th>text</th>\n",
       "      <th>dob</th>\n",
       "      <th>gender</th>\n",
       "    </tr>\n",
       "  </thead>\n",
       "  <tbody>\n",
       "    <tr>\n",
       "      <th>0</th>\n",
       "      <td>84dd6378-2ddc-44b6-9292-2a4461bcef53</td>\n",
       "      <td>Sample Type / Medical Specialty:  Consult - Hi...</td>\n",
       "      <td>1998-12-01T00:00:00.000</td>\n",
       "      <td>M</td>\n",
       "    </tr>\n",
       "    <tr>\n",
       "      <th>1</th>\n",
       "      <td>9929044f-1f43-4453-b2c0-a2f45dcdd4be</td>\n",
       "      <td>Sample Type / Medical Specialty:  General Medi...</td>\n",
       "      <td>2014-09-23T00:00:00.000</td>\n",
       "      <td>M</td>\n",
       "    </tr>\n",
       "    <tr>\n",
       "      <th>2</th>\n",
       "      <td>9929044f-1f43-4453-b2c0-a2f45dcdd4be</td>\n",
       "      <td>Sample Type / Medical Specialty:  General Medi...</td>\n",
       "      <td>2014-09-23T00:00:00.000</td>\n",
       "      <td>M</td>\n",
       "    </tr>\n",
       "    <tr>\n",
       "      <th>3</th>\n",
       "      <td>9929044f-1f43-4453-b2c0-a2f45dcdd4be</td>\n",
       "      <td>Sample Type / Medical Specialty:  General Medi...</td>\n",
       "      <td>2014-09-23T00:00:00.000</td>\n",
       "      <td>M</td>\n",
       "    </tr>\n",
       "    <tr>\n",
       "      <th>4</th>\n",
       "      <td>9929044f-1f43-4453-b2c0-a2f45dcdd4be</td>\n",
       "      <td>Sample Type / Medical Specialty:  General Medi...</td>\n",
       "      <td>2014-09-23T00:00:00.000</td>\n",
       "      <td>M</td>\n",
       "    </tr>\n",
       "  </tbody>\n",
       "</table>\n",
       "</div>"
      ],
      "text/plain": [
       "                             subject_id  \\\n",
       "0  84dd6378-2ddc-44b6-9292-2a4461bcef53   \n",
       "1  9929044f-1f43-4453-b2c0-a2f45dcdd4be   \n",
       "2  9929044f-1f43-4453-b2c0-a2f45dcdd4be   \n",
       "3  9929044f-1f43-4453-b2c0-a2f45dcdd4be   \n",
       "4  9929044f-1f43-4453-b2c0-a2f45dcdd4be   \n",
       "\n",
       "                                                text                      dob  \\\n",
       "0  Sample Type / Medical Specialty:  Consult - Hi...  1998-12-01T00:00:00.000   \n",
       "1  Sample Type / Medical Specialty:  General Medi...  2014-09-23T00:00:00.000   \n",
       "2  Sample Type / Medical Specialty:  General Medi...  2014-09-23T00:00:00.000   \n",
       "3  Sample Type / Medical Specialty:  General Medi...  2014-09-23T00:00:00.000   \n",
       "4  Sample Type / Medical Specialty:  General Medi...  2014-09-23T00:00:00.000   \n",
       "\n",
       "  gender  \n",
       "0      M  \n",
       "1      M  \n",
       "2      M  \n",
       "3      M  \n",
       "4      M  "
      ]
     },
     "execution_count": 22,
     "metadata": {},
     "output_type": "execute_result"
    }
   ],
   "source": [
    "df.head()"
   ]
  },
  {
   "cell_type": "code",
   "execution_count": 23,
   "metadata": {},
   "outputs": [
    {
     "data": {
      "text/html": [
       "<div>\n",
       "<style scoped>\n",
       "    .dataframe tbody tr th:only-of-type {\n",
       "        vertical-align: middle;\n",
       "    }\n",
       "\n",
       "    .dataframe tbody tr th {\n",
       "        vertical-align: top;\n",
       "    }\n",
       "\n",
       "    .dataframe thead th {\n",
       "        text-align: right;\n",
       "    }\n",
       "</style>\n",
       "<table border=\"1\" class=\"dataframe\">\n",
       "  <thead>\n",
       "    <tr style=\"text-align: right;\">\n",
       "      <th></th>\n",
       "      <th>subject_id</th>\n",
       "      <th>text</th>\n",
       "      <th>dob</th>\n",
       "      <th>gender</th>\n",
       "    </tr>\n",
       "  </thead>\n",
       "  <tbody>\n",
       "    <tr>\n",
       "      <th>count</th>\n",
       "      <td>1044</td>\n",
       "      <td>1044</td>\n",
       "      <td>1044</td>\n",
       "      <td>1044</td>\n",
       "    </tr>\n",
       "    <tr>\n",
       "      <th>unique</th>\n",
       "      <td>94</td>\n",
       "      <td>141</td>\n",
       "      <td>79</td>\n",
       "      <td>2</td>\n",
       "    </tr>\n",
       "    <tr>\n",
       "      <th>top</th>\n",
       "      <td>3f98ac0f-83c0-4d90-b30f-d454a09a367b</td>\n",
       "      <td>Sample Type / Medical Specialty:  General Medi...</td>\n",
       "      <td>1917-10-04T00:00:00.000</td>\n",
       "      <td>M</td>\n",
       "    </tr>\n",
       "    <tr>\n",
       "      <th>freq</th>\n",
       "      <td>42</td>\n",
       "      <td>21</td>\n",
       "      <td>70</td>\n",
       "      <td>607</td>\n",
       "    </tr>\n",
       "  </tbody>\n",
       "</table>\n",
       "</div>"
      ],
      "text/plain": [
       "                                  subject_id  \\\n",
       "count                                   1044   \n",
       "unique                                    94   \n",
       "top     3f98ac0f-83c0-4d90-b30f-d454a09a367b   \n",
       "freq                                      42   \n",
       "\n",
       "                                                     text  \\\n",
       "count                                                1044   \n",
       "unique                                                141   \n",
       "top     Sample Type / Medical Specialty:  General Medi...   \n",
       "freq                                                   21   \n",
       "\n",
       "                            dob gender  \n",
       "count                      1044   1044  \n",
       "unique                       79      2  \n",
       "top     1917-10-04T00:00:00.000      M  \n",
       "freq                         70    607  "
      ]
     },
     "execution_count": 23,
     "metadata": {},
     "output_type": "execute_result"
    }
   ],
   "source": [
    "df.describe()"
   ]
  },
  {
   "cell_type": "markdown",
   "metadata": {},
   "source": [
    "## Save the CSV to file"
   ]
  },
  {
   "cell_type": "code",
   "execution_count": 24,
   "metadata": {},
   "outputs": [],
   "source": [
    "df.to_csv(\"data/data.csv\")"
   ]
  },
  {
   "cell_type": "markdown",
   "metadata": {},
   "source": [
    "## Save the text also"
   ]
  },
  {
   "cell_type": "code",
   "execution_count": 25,
   "metadata": {},
   "outputs": [],
   "source": [
    "f = open(\"data/data.txt\", 'w')\n",
    "for text in df['text'].values:\n",
    "    f.write(text)\n",
    "    f.write('\\n')\n",
    "f.close()"
   ]
  }
 ],
 "metadata": {
  "kernelspec": {
   "display_name": "Python 3",
   "language": "python",
   "name": "python3"
  },
  "language_info": {
   "codemirror_mode": {
    "name": "ipython",
    "version": 3
   },
   "file_extension": ".py",
   "mimetype": "text/x-python",
   "name": "python",
   "nbconvert_exporter": "python",
   "pygments_lexer": "ipython3",
   "version": "3.8.0"
  }
 },
 "nbformat": 4,
 "nbformat_minor": 4
}
