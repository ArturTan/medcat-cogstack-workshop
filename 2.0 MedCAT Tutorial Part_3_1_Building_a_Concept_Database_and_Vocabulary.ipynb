{
 "cells": [
  {
   "cell_type": "code",
   "execution_count": 21,
   "metadata": {
    "colab": {},
    "colab_type": "code",
    "id": "KByaUPYNk7gk"
   },
   "outputs": [],
   "source": [
    "import pandas as pd\n",
    "import numpy as np\n",
    "import seaborn as sns\n",
    "from matplotlib import pyplot as plt\n",
    "\n",
    "from medcat.cat import CAT\n",
    "from medcat.cdb import CDB\n",
    "from medcat.utils.vocab import Vocab\n",
    "from medcat.prepare_cdb import PrepareCDB"
   ]
  },
  {
   "cell_type": "code",
   "execution_count": 22,
   "metadata": {
    "colab": {},
    "colab_type": "code",
    "id": "kKgZTiZxk7gp"
   },
   "outputs": [],
   "source": [
    "DATA_DIR = \"./data/\""
   ]
  },
  {
   "cell_type": "code",
   "execution_count": 23,
   "metadata": {
    "colab": {
     "base_uri": "https://localhost:8080/",
     "height": 578
    },
    "colab_type": "code",
    "id": "IRLcv4dGIEbS",
    "outputId": "1743fd80-ea7e-48be-c155-5ff7b8428317",
    "scrolled": true
   },
   "outputs": [
    {
     "name": "stdout",
     "output_type": "stream",
     "text": [
      "--2020-09-09 17:19:47--  https://raw.githubusercontent.com/CogStack/MedCAT/master/tutorial/data/cdb_simple.csv\n",
      "Resolving raw.githubusercontent.com (raw.githubusercontent.com)... 151.101.0.133, 151.101.128.133, 151.101.64.133, ...\n",
      "Connecting to raw.githubusercontent.com (raw.githubusercontent.com)|151.101.0.133|:443... connected.\n",
      "HTTP request sent, awaiting response... 200 OK\n",
      "Length: 49 [text/plain]\n",
      "Saving to: ‘./data/cdb_simple.csv’\n",
      "\n",
      "cdb_simple.csv      100%[===================>]      49  --.-KB/s    in 0s      \n",
      "\n",
      "2020-09-09 17:19:47 (3.09 MB/s) - ‘./data/cdb_simple.csv’ saved [49/49]\n",
      "\n",
      "--2020-09-09 17:19:47--  https://raw.githubusercontent.com/CogStack/MedCAT/master/tutorial/data/cdb_advanced.csv\n",
      "Resolving raw.githubusercontent.com (raw.githubusercontent.com)... 151.101.0.133, 151.101.128.133, 151.101.64.133, ...\n",
      "Connecting to raw.githubusercontent.com (raw.githubusercontent.com)|151.101.0.133|:443... connected.\n",
      "HTTP request sent, awaiting response... 200 OK\n",
      "Length: 193 [text/plain]\n",
      "Saving to: ‘./data/cdb_advanced.csv’\n",
      "\n",
      "cdb_advanced.csv    100%[===================>]     193  --.-KB/s    in 0s      \n",
      "\n",
      "2020-09-09 17:19:47 (12.8 MB/s) - ‘./data/cdb_advanced.csv’ saved [193/193]\n",
      "\n",
      "--2020-09-09 17:19:47--  https://raw.githubusercontent.com/CogStack/MedCAT/master/tutorial/data/vocab_data.txt\n",
      "Resolving raw.githubusercontent.com (raw.githubusercontent.com)... 151.101.0.133, 151.101.128.133, 151.101.64.133, ...\n",
      "Connecting to raw.githubusercontent.com (raw.githubusercontent.com)|151.101.0.133|:443... connected.\n",
      "HTTP request sent, awaiting response... 200 OK\n",
      "Length: 72 [text/plain]\n",
      "Saving to: ‘./data/vocab_data.txt’\n",
      "\n",
      "vocab_data.txt      100%[===================>]      72  --.-KB/s    in 0s      \n",
      "\n",
      "2020-09-09 17:19:48 (4.26 MB/s) - ‘./data/vocab_data.txt’ saved [72/72]\n",
      "\n"
     ]
    }
   ],
   "source": [
    "!wget https://raw.githubusercontent.com/CogStack/MedCAT/master/tutorial/data/cdb_simple.csv -P ./data\n",
    "!wget https://raw.githubusercontent.com/CogStack/MedCAT/master/tutorial/data/cdb_advanced.csv -P ./data\n",
    "!wget https://raw.githubusercontent.com/CogStack/MedCAT/master/tutorial/data/vocab_data.txt -P ./data"
   ]
  },
  {
   "cell_type": "markdown",
   "metadata": {
    "colab_type": "text",
    "id": "9POZ_dwsk7gu"
   },
   "source": [
    "# Building a Vocabulary\n",
    "\n",
    "The first of the two required models when running MedCAT is a Vocabulary model (Vocab). The model is used for two things: (1) Spell checking; and (2) Word Embedding. \n",
    "\n",
    "The Vocab is very simple and you can easily build it from a file that is structured as below:\n",
    "```\n",
    "<token>\\t<word_count>\\t<vector_embedding_separated_by_spaces>\n",
    "```\n",
    "`token` - Usually a word or subword if you are using Byte Pair Encoding or something similar.\n",
    "\n",
    "`word_count` - The count for this word in your dataset or in any large dataset (wikipedia also works nicely).\n",
    "\n",
    "`vector_embedding_separated_by_spaces` - precalculated vector embedding, can be from Word2Vec or BERT or Whatever\n",
    "\n",
    "---\n",
    "An example with 3-dim embedding would be:\n",
    "```\n",
    "house\t34444\t 0.3232 0.123213 1.231231\n",
    "dog\t14444\t0.76762 0.76767 1.45454\n",
    ".\n",
    ".\n",
    ".\n",
    "```\n",
    "The file is basically a TSV, but should not have any heading. \n",
    "\n",
    "---\n",
    "\n",
    "**NOTE**: If spelling is important for your use-case, take care that there are no misspelled words in the Vocab."
   ]
  },
  {
   "cell_type": "code",
   "execution_count": 24,
   "metadata": {
    "colab": {},
    "colab_type": "code",
    "id": "OgMSGHyhk7gv"
   },
   "outputs": [],
   "source": [
    "# Let's have a look at an example, I've created a small vocabulary with only 2 words (the ones from above)\n",
    "#and saved them into a text file. Let's try to create a vocabulary from this two words.\n",
    "file_path = DATA_DIR + \"vocab_data.txt\"\n",
    "\n",
    "vocab = Vocab()\n",
    "vocab.add_words(path=file_path)"
   ]
  },
  {
   "cell_type": "markdown",
   "metadata": {
    "colab_type": "text",
    "id": "xPl6ghXUk7gy"
   },
   "source": [
    "**And that is everything, with this we have built our vocab and no futher training is necessary.**\n",
    "\n",
    "---\n",
    "\n",
    "A couple of useful functions of the vocab are presented below"
   ]
  },
  {
   "cell_type": "code",
   "execution_count": 25,
   "metadata": {
    "colab": {
     "base_uri": "https://localhost:8080/",
     "height": 34
    },
    "colab_type": "code",
    "id": "HeVMPs5Zk7gy",
    "outputId": "53bb04b6-b4f7-4220-d4ac-b55261c557f8"
   },
   "outputs": [
    {
     "data": {
      "text/plain": [
       "dict_keys(['house', 'dog'])"
      ]
     },
     "execution_count": 25,
     "metadata": {},
     "output_type": "execute_result"
    }
   ],
   "source": [
    "# To see the words in the vocab\n",
    "vocab.vocab.keys()"
   ]
  },
  {
   "cell_type": "code",
   "execution_count": 26,
   "metadata": {
    "colab": {
     "base_uri": "https://localhost:8080/",
     "height": 34
    },
    "colab_type": "code",
    "id": "SclVqlDgk7g2",
    "outputId": "3504bf87-f0cd-457d-8881-c033ab3d1074"
   },
   "outputs": [
    {
     "data": {
      "text/plain": [
       "dict_keys(['house', 'dog', 'test'])"
      ]
     },
     "execution_count": 26,
     "metadata": {},
     "output_type": "execute_result"
    }
   ],
   "source": [
    "# If you want to add words manually (one by one) use:\n",
    "vocab.add_word(\"test\", cnt=31, vec=[1.42, 1.44, 1.55], replace=True)\n",
    "vocab.vocab.keys()"
   ]
  },
  {
   "cell_type": "code",
   "execution_count": 27,
   "metadata": {
    "colab": {
     "base_uri": "https://localhost:8080/",
     "height": 34
    },
    "colab_type": "code",
    "id": "JnCgpKrEk7g5",
    "outputId": "1358a3a9-7f4d-42a2-c318-8972488a4794"
   },
   "outputs": [
    {
     "data": {
      "text/plain": [
       "array([0.3232  , 0.123213, 1.231231])"
      ]
     },
     "execution_count": 27,
     "metadata": {},
     "output_type": "execute_result"
    }
   ],
   "source": [
    "# To get a vector of word use:\n",
    "vocab.vec(\"house\")"
   ]
  },
  {
   "cell_type": "code",
   "execution_count": 28,
   "metadata": {
    "colab": {
     "base_uri": "https://localhost:8080/",
     "height": 34
    },
    "colab_type": "code",
    "id": "bO4IEvrJk7g8",
    "outputId": "aa2d40c6-a28a-4c41-de9a-d288509559ea"
   },
   "outputs": [
    {
     "data": {
      "text/plain": [
       "34444"
      ]
     },
     "execution_count": 28,
     "metadata": {},
     "output_type": "execute_result"
    }
   ],
   "source": [
    "# Or to get the count\n",
    "vocab['house']"
   ]
  },
  {
   "cell_type": "code",
   "execution_count": 29,
   "metadata": {
    "colab": {
     "base_uri": "https://localhost:8080/",
     "height": 34
    },
    "colab_type": "code",
    "id": "fLg63Z9Yk7g-",
    "outputId": "0937dcce-3d3a-4680-be72-ab35883d5bcc"
   },
   "outputs": [
    {
     "data": {
      "text/plain": [
       "True"
      ]
     },
     "execution_count": 29,
     "metadata": {},
     "output_type": "execute_result"
    }
   ],
   "source": [
    "# To chec is a word in the vocab:\n",
    "\"house\" in vocab"
   ]
  },
  {
   "cell_type": "markdown",
   "metadata": {
    "colab_type": "text",
    "id": "xG3FCinSl_Sq"
   },
   "source": [
    "### Before we save the vocab model, we need to create the unigram table for negative sampling"
   ]
  },
  {
   "cell_type": "code",
   "execution_count": 30,
   "metadata": {
    "colab": {},
    "colab_type": "code",
    "id": "wdC8eennmSM4"
   },
   "outputs": [],
   "source": [
    "# This is necessary after each change of the vocabulary (when we add new words)\n",
    "vocab.make_unigram_table()"
   ]
  },
  {
   "cell_type": "markdown",
   "metadata": {
    "colab_type": "text",
    "id": "o6itJcEXk7hA"
   },
   "source": [
    "### Save the model"
   ]
  },
  {
   "cell_type": "code",
   "execution_count": 31,
   "metadata": {
    "colab": {},
    "colab_type": "code",
    "id": "RgRtW7eqk7hB"
   },
   "outputs": [],
   "source": [
    "vocab.save_dict(DATA_DIR + \"tmp-vocab.dat\")"
   ]
  },
  {
   "cell_type": "markdown",
   "metadata": {
    "colab_type": "text",
    "id": "-YBbwcNUk7hD"
   },
   "source": [
    "### Load the model"
   ]
  },
  {
   "cell_type": "code",
   "execution_count": 32,
   "metadata": {
    "colab": {},
    "colab_type": "code",
    "id": "o_tOsE6ak7hE"
   },
   "outputs": [],
   "source": [
    "vocab = Vocab()\n",
    "vocab.load_dict(DATA_DIR + \"tmp-vocab.dat\")"
   ]
  },
  {
   "cell_type": "markdown",
   "metadata": {},
   "source": [
    "# Building the vocab from a stream of text data\n",
    "\n",
    "If we only have a large body of text (e.g. wikipedia), we can easily build our own vocabulary."
   ]
  },
  {
   "cell_type": "code",
   "execution_count": 33,
   "metadata": {},
   "outputs": [],
   "source": [
    "f = open(DATA_DIR + \"data.txt\")"
   ]
  },
  {
   "cell_type": "code",
   "execution_count": 34,
   "metadata": {},
   "outputs": [],
   "source": [
    "from medcat.utils.make_vocab import MakeVocab"
   ]
  },
  {
   "cell_type": "code",
   "execution_count": 35,
   "metadata": {},
   "outputs": [],
   "source": [
    "make_vocab = MakeVocab()"
   ]
  },
  {
   "cell_type": "code",
   "execution_count": 36,
   "metadata": {},
   "outputs": [
    {
     "name": "stdout",
     "output_type": "stream",
     "text": [
      "0\n",
      "10000\n",
      "20000\n",
      "30000\n",
      "40000\n"
     ]
    }
   ],
   "source": [
    "make_vocab.make(f, \"./out/\")"
   ]
  },
  {
   "cell_type": "code",
   "execution_count": 37,
   "metadata": {},
   "outputs": [],
   "source": [
    "make_vocab.vocab.vec(\"house\")"
   ]
  },
  {
   "cell_type": "code",
   "execution_count": 38,
   "metadata": {},
   "outputs": [
    {
     "data": {
      "text/plain": [
       "<gensim.models.word2vec.Word2Vec at 0x7ff89dfee3a0>"
      ]
     },
     "execution_count": 38,
     "metadata": {},
     "output_type": "execute_result"
    }
   ],
   "source": [
    "make_vocab.add_vectors(\"./out/data.txt\")"
   ]
  },
  {
   "cell_type": "code",
   "execution_count": 39,
   "metadata": {
    "scrolled": true
   },
   "outputs": [
    {
     "data": {
      "text/plain": [
       "array([-4.59955297e-02,  3.33680883e-02, -1.12155275e-02, -6.99009150e-02,\n",
       "        1.37163609e-01, -3.03632747e-02, -7.00904056e-02, -1.19212449e-01,\n",
       "        8.54373425e-02, -5.51070757e-02,  4.47482988e-02,  3.92590985e-02,\n",
       "       -6.99465675e-03,  1.01291731e-01,  6.23297840e-02,  4.88474369e-02,\n",
       "       -4.87998547e-03, -7.88650438e-02, -2.55356263e-03,  1.06156459e-02,\n",
       "        9.02190283e-02,  1.31216303e-01, -7.54631907e-02,  7.71637261e-02,\n",
       "        1.04633376e-01,  9.54619236e-03,  5.77104613e-02, -8.75939205e-02,\n",
       "       -1.30764535e-02, -4.09990139e-02, -4.35646251e-02,  8.04079697e-02,\n",
       "        1.60963237e-02, -5.73624112e-03, -3.73984799e-02, -1.26232700e-02,\n",
       "       -8.32567886e-02, -5.49194142e-02, -4.66786474e-02,  1.32484734e-01,\n",
       "       -7.62983561e-02, -1.63496863e-02, -3.20202820e-02, -4.89284936e-03,\n",
       "       -2.40638927e-02, -1.79406349e-02,  2.63882009e-03,  9.64811817e-02,\n",
       "        2.35552359e-02, -3.23801152e-02, -3.46994884e-02,  8.71317238e-02,\n",
       "       -5.81941493e-02,  6.09910414e-02, -5.23331426e-02, -1.21737802e-02,\n",
       "       -1.11759668e-02,  7.25571439e-02,  3.77278924e-02, -1.16913754e-04,\n",
       "       -8.45863521e-02, -2.98837870e-02, -4.26835455e-02,  3.40729319e-02,\n",
       "       -8.70941803e-02,  9.80129167e-02,  9.06656906e-02,  3.81828658e-02,\n",
       "       -6.68128878e-02, -8.10711235e-02, -6.44740164e-02, -3.22053730e-02,\n",
       "       -9.91825536e-02, -5.85896783e-02,  9.15327817e-02,  3.59844118e-02,\n",
       "       -4.94092610e-03, -4.01512496e-02,  1.97093487e-02, -4.37714197e-02,\n",
       "       -3.55912521e-02, -1.06668673e-01,  9.60743949e-02,  7.70895109e-02,\n",
       "       -3.58812921e-02, -1.21614384e-02,  3.75862978e-02, -4.37399410e-02,\n",
       "       -4.45933752e-02,  3.52214314e-02, -4.28798348e-02,  3.76986675e-02,\n",
       "       -4.19353396e-02,  1.35290381e-02,  1.58654079e-02,  1.39708072e-02,\n",
       "        5.57628646e-03, -8.40425142e-04,  4.53711785e-02,  5.07407561e-02,\n",
       "        7.51514584e-02,  1.50226414e-01, -2.22667232e-02,  4.71925288e-02,\n",
       "        5.97628988e-02, -1.09973438e-01, -4.19608830e-03, -6.51089847e-02,\n",
       "        2.38410663e-02,  3.11133862e-02, -6.17467836e-02, -1.24034047e-01,\n",
       "       -1.19243771e-01,  2.44404059e-02, -7.01100156e-02,  2.73767084e-01,\n",
       "        1.96240991e-02, -3.68532212e-03, -7.94892907e-02,  2.56028622e-02,\n",
       "        4.16109711e-02, -8.11888929e-03,  5.79297617e-02,  1.52679626e-02,\n",
       "        2.48560738e-02, -3.33001092e-02, -3.30362245e-02, -5.24137281e-02,\n",
       "       -3.80353071e-03,  6.09802268e-02, -3.16358209e-02, -1.28644615e-01,\n",
       "       -8.03562626e-02, -5.06461635e-02, -2.21115407e-02, -1.70193911e-02,\n",
       "       -1.21813208e-01, -7.07628578e-02, -7.55052567e-02,  6.59912750e-02,\n",
       "       -2.14053635e-02,  6.54930398e-02, -3.76719497e-02, -7.86518008e-02,\n",
       "        5.63555881e-02, -3.13164108e-02,  2.33769231e-02,  2.06875801e-02,\n",
       "        6.08012304e-02,  2.53368504e-02, -2.15016529e-02,  2.84154695e-02,\n",
       "       -5.46123423e-02, -3.87007594e-02,  1.44132581e-02,  1.08950503e-01,\n",
       "        9.24056619e-02,  3.11599486e-02,  2.93954033e-02,  3.82159613e-02,\n",
       "        8.83068517e-02,  6.57880306e-02,  4.79551107e-02, -3.14896367e-02,\n",
       "        1.76428892e-02,  1.59601867e-02,  1.26693649e-02, -2.15874016e-02,\n",
       "       -2.84738541e-02,  3.20317037e-02, -8.60482752e-02, -5.14193065e-03,\n",
       "        8.30627307e-02, -6.28306791e-02, -3.98014300e-02, -1.08351484e-01,\n",
       "        9.34036821e-02, -1.16131529e-01, -4.82171662e-02,  8.44866317e-03,\n",
       "       -2.87252776e-02,  2.17613224e-02, -1.47544462e-02,  5.23706898e-02,\n",
       "       -1.88255921e-01, -6.32369379e-03, -2.80059539e-02,  1.20214391e-02,\n",
       "       -2.71005277e-02,  2.29755044e-02,  5.39460965e-02,  9.27168131e-03,\n",
       "        5.94712049e-02,  5.97661883e-02,  5.92616461e-02, -1.23631038e-01,\n",
       "       -9.87164862e-03, -1.02501467e-01,  7.84393847e-02, -2.63147261e-02,\n",
       "        3.85051817e-02,  5.98135404e-02, -7.72960857e-02, -1.23806298e-01,\n",
       "        1.30967766e-01, -1.90016776e-02,  5.82087599e-03,  6.26599882e-03,\n",
       "       -6.87372871e-03,  1.24765523e-01,  5.66320643e-02,  4.23783660e-02,\n",
       "       -6.51225299e-02, -2.48889290e-02, -1.19746057e-02, -5.47841117e-02,\n",
       "       -8.48342553e-02, -3.87218818e-02,  1.29236951e-01, -2.49380730e-02,\n",
       "       -3.83496545e-02, -3.54666337e-02,  3.40441838e-02, -8.22865292e-02,\n",
       "        2.04046648e-02,  3.74522954e-02, -2.50037536e-02, -1.29951779e-02,\n",
       "       -2.35881228e-02, -3.05835996e-02,  7.53341690e-02,  4.64537703e-02,\n",
       "       -3.63939330e-02, -2.50337590e-02,  2.86846776e-02,  4.20669205e-02,\n",
       "       -1.19826477e-02, -1.83594659e-01, -6.11412749e-02,  5.82109466e-02,\n",
       "        5.75651564e-02,  4.32086028e-02, -7.01479390e-02,  4.63000778e-03,\n",
       "        8.83070379e-03, -1.18412271e-01, -2.31505521e-02,  5.70629276e-02,\n",
       "        7.08098784e-02, -5.71019277e-02,  2.82094553e-02, -7.36882016e-02,\n",
       "       -6.37664199e-02,  4.03241552e-02, -4.95427214e-02, -2.20526159e-02,\n",
       "        2.11506691e-02, -4.33255499e-03, -7.55154192e-02, -4.66809757e-02,\n",
       "       -5.09941429e-02,  8.25861767e-02, -5.27858213e-02,  8.98861364e-02,\n",
       "       -1.76748224e-02,  6.54352903e-02, -2.77236551e-02,  2.44180411e-02,\n",
       "       -1.29951298e-01,  2.78341006e-02, -6.49801120e-02, -4.08467539e-02,\n",
       "       -2.97658406e-02, -1.27136007e-01, -7.70918056e-02,  1.07526429e-01,\n",
       "       -5.08097149e-02, -7.56372092e-03, -5.54103442e-02,  1.00522012e-01,\n",
       "       -7.15174899e-02, -1.79038882e-01, -3.16935629e-02,  5.28384224e-02,\n",
       "       -1.10041514e-01, -1.34436795e-02, -3.44077162e-02,  1.09801613e-01,\n",
       "       -2.92686149e-02, -5.80490120e-02,  1.91411804e-02,  5.52044846e-02,\n",
       "        1.05794638e-01,  2.63317004e-02,  2.55839471e-02,  6.54491931e-02,\n",
       "        1.36329383e-01, -5.49848005e-02, -9.39994305e-02,  2.08381861e-02],\n",
       "      dtype=float32)"
      ]
     },
     "execution_count": 39,
     "metadata": {},
     "output_type": "execute_result"
    }
   ],
   "source": [
    "make_vocab.vocab.vec(\"house\")"
   ]
  },
  {
   "cell_type": "code",
   "execution_count": 40,
   "metadata": {},
   "outputs": [],
   "source": [
    "vocab = make_vocab.vocab"
   ]
  },
  {
   "cell_type": "markdown",
   "metadata": {
    "colab_type": "text",
    "id": "ptRmHln9k7hG"
   },
   "source": [
    "# Building the Concept Database (CDB)\n",
    "\n",
    "The second model we are going to need when using MedCAT is the ConceptDB (CDB). This database holds a list of all concepts that we would like to detect and link to. For a lot of medical use-cases we would use giant databases like the UMLS or SNOMED. But, MedCAT can be used with any database no matter how big/small it is. \n",
    "\n",
    "To prepare the CDB we start off with a CSV with the following structure:\n",
    "```\n",
    "cui,str\n",
    "1,kidney failure\n",
    "7,CoVid 2\n",
    "7,coronavirus\n",
    "```\n",
    "This is the most basic version of the CSV file, it has only:\n",
    "\n",
    "`cui` - The concept unique identifier, this is simply an `ID` in your database\n",
    "\n",
    "`str` - String/Name of that concept. It is important to write all possible names and abbreviations for a concept of interest.\n",
    "\n",
    "If you have once concept that has multiple different names (like the one above with cui=7), you can simply add multiple rows with the same concept ID and MedCAT will merge that during the build phase.\n",
    "\n",
    "## The Full CSV Specification\n",
    "```\n",
    "cui,str,onto,tty,tui,sty,desc,is_unique,examples\n",
    "1,Kidney Failure|failure of kidneys|KF,SNOMED,PM,T047,Disease,Description of the concept,The patient was diagnosed with kidney failure\n",
    ".\n",
    ".\n",
    ".\n",
    "```\n",
    "This fileds are optional, anyone can be included or left out in your CSV.\n",
    "\n",
    "`onto` - Source ontology, e.g. HPO, SNOMED, HPC,...\n",
    "\n",
    "`tty` - Term type e.g. PN - Primary Name. Primary names are important and I would always recommend to add this fields when creating your CDB. \n",
    "\n",
    "`tui` - Semantic type identifier - e.g. T047 (taken from UMLS). A list of all semantic types can be found [here](https://metamap.nlm.nih.gov/Docs/SemanticTypes_2018AB.txt). \n",
    "\n",
    "`sty` - Semantic type - e.g. Disease\n",
    "\n",
    "`desc` - Description of this concept\n",
    "\n",
    "`examples` - Examples of this concept in a sentence (use short examples, not whole documents).\n",
    "\n",
    "\n",
    "***Note***: If one concept has multiple names, you can also separate the different names by a \"|\" - pipe - symbol "
   ]
  },
  {
   "cell_type": "code",
   "execution_count": 41,
   "metadata": {
    "colab": {
     "base_uri": "https://localhost:8080/",
     "height": 34
    },
    "colab_type": "code",
    "id": "op5-LDOfk7hH",
    "outputId": "db3d8410-8e2c-4727-d22c-028302a26a9a"
   },
   "outputs": [
    {
     "name": "stdout",
     "output_type": "stream",
     "text": [
      "Done: 0\n"
     ]
    }
   ],
   "source": [
    "# Let's try building the concept databse from a simple CSV\n",
    "prep_cdb = PrepareCDB(vocab=vocab)\n",
    "\n",
    "# Crete an array for paths to CSV files that will be used to build our CDB\n",
    "paths = [DATA_DIR + 'cdb_simple.csv']\n",
    "cdb = prep_cdb.prepare_csvs(paths)"
   ]
  },
  {
   "cell_type": "code",
   "execution_count": 42,
   "metadata": {
    "colab": {
     "base_uri": "https://localhost:8080/",
     "height": 34
    },
    "colab_type": "code",
    "id": "lwlOBilek7hJ",
    "outputId": "f62adc46-6d22-4649-d2f4-bdd8d6b61ef6"
   },
   "outputs": [
    {
     "name": "stdout",
     "output_type": "stream",
     "text": [
      "{'1': {'kidney failure'}, '7': {'CoVid 2', 'coronavirus'}}\n"
     ]
    }
   ],
   "source": [
    "print(cdb.cui2original_names)"
   ]
  },
  {
   "cell_type": "code",
   "execution_count": 43,
   "metadata": {
    "colab": {
     "base_uri": "https://localhost:8080/",
     "height": 34
    },
    "colab_type": "code",
    "id": "qbO3dsLpk7hL",
    "outputId": "4ab4ace4-fb57-42cf-f646-7b0d5f74055d"
   },
   "outputs": [
    {
     "name": "stdout",
     "output_type": "stream",
     "text": [
      "Done: 0\n"
     ]
    }
   ],
   "source": [
    "prep_cdb = PrepareCDB(vocab=vocab)\n",
    "\n",
    "# To build fromm the advanced CSV example\n",
    "paths = [DATA_DIR + 'cdb_advanced.csv']\n",
    "cdb = prep_cdb.prepare_csvs(paths)"
   ]
  },
  {
   "cell_type": "markdown",
   "metadata": {
    "colab_type": "text",
    "id": "08agsFBnk7hQ"
   },
   "source": [
    "**That is all, nothing else is necessary to build the CDB**\n",
    "\n",
    "---\n",
    "\n",
    "Some useful functions of the cdb are below"
   ]
  },
  {
   "cell_type": "code",
   "execution_count": 44,
   "metadata": {
    "colab": {
     "base_uri": "https://localhost:8080/",
     "height": 34
    },
    "colab_type": "code",
    "id": "uD3AYqqkk7hQ",
    "outputId": "7900ba85-9c43-4456-8e00-d7df23cacb4d"
   },
   "outputs": [
    {
     "name": "stdout",
     "output_type": "stream",
     "text": [
      "{'1': {'KF', 'Failure of Kidneys', 'K. Failure', 'Kidney Failure'}}\n"
     ]
    }
   ],
   "source": [
    "# To display all cuis and names in the db - note that MedCAT merged the names\n",
    "print(cdb.cui2original_names)"
   ]
  },
  {
   "cell_type": "code",
   "execution_count": 45,
   "metadata": {
    "colab": {
     "base_uri": "https://localhost:8080/",
     "height": 34
    },
    "colab_type": "code",
    "id": "XYROG_l_k7hT",
    "outputId": "bd7a08cf-e595-4b05-b0a6-faf8ed5447a8"
   },
   "outputs": [
    {
     "name": "stdout",
     "output_type": "stream",
     "text": [
      "{'T047': {'1'}}\n"
     ]
    }
   ],
   "source": [
    "# We have a link from tui to cui\n",
    "print(cdb.tui2cuis)"
   ]
  },
  {
   "cell_type": "code",
   "execution_count": 46,
   "metadata": {
    "colab": {
     "base_uri": "https://localhost:8080/",
     "height": 34
    },
    "colab_type": "code",
    "id": "j18tyQ2Kk7hV",
    "outputId": "56075959-5395-4277-b9c7-27729a703794"
   },
   "outputs": [
    {
     "name": "stdout",
     "output_type": "stream",
     "text": [
      "{'1': 'T047'}\n"
     ]
    }
   ],
   "source": [
    "# Or vice versa - from cui to tui\n",
    "print(cdb.cui2tui)"
   ]
  },
  {
   "cell_type": "code",
   "execution_count": 47,
   "metadata": {
    "colab": {
     "base_uri": "https://localhost:8080/",
     "height": 34
    },
    "colab_type": "code",
    "id": "1xxBjfndk7hX",
    "outputId": "ff763518-99e5-4b70-8ab7-27b82a808684"
   },
   "outputs": [
    {
     "name": "stdout",
     "output_type": "stream",
     "text": [
      "{'1': 'Description of the concept\\n\\nnan'}\n"
     ]
    }
   ],
   "source": [
    "# Description is also there\n",
    "print(cdb.cui2desc)"
   ]
  },
  {
   "cell_type": "markdown",
   "metadata": {
    "colab_type": "text",
    "id": "Lpx7zGvwk7ha"
   },
   "source": [
    "### Save the model"
   ]
  },
  {
   "cell_type": "code",
   "execution_count": 48,
   "metadata": {
    "colab": {},
    "colab_type": "code",
    "id": "fC01maOzk7ha"
   },
   "outputs": [],
   "source": [
    "cdb.save_dict(DATA_DIR + \"cdb.dat\")"
   ]
  },
  {
   "cell_type": "markdown",
   "metadata": {
    "colab_type": "text",
    "id": "97uiDwvAk7hc"
   },
   "source": [
    "### Load the model"
   ]
  },
  {
   "cell_type": "code",
   "execution_count": 49,
   "metadata": {
    "colab": {},
    "colab_type": "code",
    "id": "J9Ft8PbFk7hc"
   },
   "outputs": [],
   "source": [
    "cdb = CDB()\n",
    "cdb.load_dict(DATA_DIR + \"cdb.dat\")"
   ]
  },
  {
   "cell_type": "markdown",
   "metadata": {
    "colab_type": "text",
    "id": "9fwiKys4k7he"
   },
   "source": [
    "# End\n",
    "\n",
    "This is everything you need to create your own MedCAT models. In the next notebook you will see how to train and use these models to annotate documents. "
   ]
  }
 ],
 "metadata": {
  "colab": {
   "collapsed_sections": [],
   "name": "MedCAT Tutorial | Part 3.1 Building a Concept Database and Vocabulary.ipynb",
   "provenance": []
  },
  "kernelspec": {
   "display_name": "Python 3",
   "language": "python",
   "name": "python3"
  },
  "language_info": {
   "codemirror_mode": {
    "name": "ipython",
    "version": 3
   },
   "file_extension": ".py",
   "mimetype": "text/x-python",
   "name": "python",
   "nbconvert_exporter": "python",
   "pygments_lexer": "ipython3",
   "version": "3.8.0"
  }
 },
 "nbformat": 4,
 "nbformat_minor": 1
}
