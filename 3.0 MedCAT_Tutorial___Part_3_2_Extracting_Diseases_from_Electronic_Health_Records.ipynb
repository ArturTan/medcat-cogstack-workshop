{
 "cells": [
  {
   "cell_type": "code",
   "execution_count": 41,
   "metadata": {
    "colab": {},
    "colab_type": "code",
    "id": "lho2dmm1VffS"
   },
   "outputs": [],
   "source": [
    "import pandas as pd\n",
    "import numpy as np\n",
    "import seaborn as sns\n",
    "from matplotlib import pyplot as plt\n",
    "\n",
    "from medcat.cat import CAT\n",
    "from medcat.cdb import CDB\n",
    "from medcat.utils.vocab import Vocab"
   ]
  },
  {
   "cell_type": "code",
   "execution_count": 42,
   "metadata": {
    "colab": {},
    "colab_type": "code",
    "id": "VH8L597aVffZ"
   },
   "outputs": [],
   "source": [
    "DATA_DIR = \"./data/\"\n",
    "vocab_path = DATA_DIR + \"vocab.dat\"\n",
    "cdb_path = DATA_DIR + \"cdb-medmen.dat\""
   ]
  },
  {
   "cell_type": "code",
   "execution_count": 54,
   "metadata": {
    "colab": {
     "base_uri": "https://localhost:8080/",
     "height": 578
    },
    "colab_type": "code",
    "id": "km-Va8uvbEYd",
    "outputId": "08599451-04b4-4c98-f4a0-fccc57275666",
    "scrolled": true
   },
   "outputs": [
    {
     "name": "stdout",
     "output_type": "stream",
     "text": [
      "--2020-09-09 17:24:44--  https://s3-eu-west-1.amazonaws.com/zkcl/vocab.dat\n",
      "Resolving s3-eu-west-1.amazonaws.com (s3-eu-west-1.amazonaws.com)... 52.218.101.59\n",
      "Connecting to s3-eu-west-1.amazonaws.com (s3-eu-west-1.amazonaws.com)|52.218.101.59|:443... connected.\n",
      "HTTP request sent, awaiting response... 200 OK\n",
      "Length: 274445907 (262M) [application/x-www-form-urlencoded]\n",
      "Saving to: ‘./data/vocab.dat’\n",
      "\n",
      "vocab.dat           100%[===================>] 261.73M  22.1MB/s    in 15s     \n",
      "\n",
      "2020-09-09 17:25:00 (16.9 MB/s) - ‘./data/vocab.dat’ saved [274445907/274445907]\n",
      "\n",
      "--2020-09-09 17:25:00--  https://s3-eu-west-1.amazonaws.com/zkcl/cdb-medmen.dat\n",
      "Resolving s3-eu-west-1.amazonaws.com (s3-eu-west-1.amazonaws.com)... 52.218.106.83\n",
      "Connecting to s3-eu-west-1.amazonaws.com (s3-eu-west-1.amazonaws.com)|52.218.106.83|:443... connected.\n",
      "HTTP request sent, awaiting response... 200 OK\n",
      "Length: 180335834 (172M) [application/x-www-form-urlencoded]\n",
      "Saving to: ‘./data/cdb-medmen.dat.1’\n",
      "\n",
      "cdb-medmen.dat.1    100%[===================>] 171.98M  31.1MB/s    in 8.1s    \n",
      "\n",
      "2020-09-09 17:25:09 (21.1 MB/s) - ‘./data/cdb-medmen.dat.1’ saved [180335834/180335834]\n",
      "\n"
     ]
    }
   ],
   "source": [
    "# Download the models and required data \n",
    "!wget https://s3-eu-west-1.amazonaws.com/zkcl/vocab.dat -P ./data/\n",
    "!wget https://s3-eu-west-1.amazonaws.com/zkcl/cdb-medmen.dat -P ./data/"
   ]
  },
  {
   "cell_type": "markdown",
   "metadata": {
    "colab_type": "text",
    "id": "_thSfOjVVffc"
   },
   "source": [
    "## Loading models and preparing MedCAT"
   ]
  },
  {
   "cell_type": "code",
   "execution_count": 55,
   "metadata": {
    "colab": {},
    "colab_type": "code",
    "id": "LFgIA5tSVffd"
   },
   "outputs": [],
   "source": [
    "# Create and load the CDB (Concept Database)\n",
    "cdb = CDB()\n",
    "cdb.load_dict(cdb_path)\n",
    "\n",
    "# Create and load the Vocabulary\n",
    "vocab = Vocab()\n",
    "vocab.load_dict(vocab_path)"
   ]
  },
  {
   "cell_type": "code",
   "execution_count": 56,
   "metadata": {
    "colab": {},
    "colab_type": "code",
    "id": "l1nWKI96Vffg"
   },
   "outputs": [],
   "source": [
    "# Create CAT - the main class from medcat used for concept annotation\n",
    "cat = CAT(cdb=cdb, vocab=vocab)\n",
    "\n",
    "# Set a couple of parameters, they are usually set via environments, but\n",
    "#here we will do it explicitly. You can read more about each option in the \n",
    "#medcat repository: https://github.com/CogStack/MedCAT\n",
    "cat.spacy_cat.MIN_CONCEPT_LENGTH = 3 # Ignore concepts (diseases) <= 3 characters\n",
    "cat.spacy_cat.MIN_ACC = 0.2 # Confidence cut-off, everything bellow will not be displayed "
   ]
  },
  {
   "cell_type": "markdown",
   "metadata": {
    "colab_type": "text",
    "id": "f7VxmscmVffi"
   },
   "source": [
    "## Testing NER+L"
   ]
  },
  {
   "cell_type": "code",
   "execution_count": 57,
   "metadata": {
    "colab": {
     "base_uri": "https://localhost:8080/",
     "height": 34
    },
    "colab_type": "code",
    "id": "7_L4-zPPVffj",
    "outputId": "3bc09c13-55b2-4510-ab96-e574fb2fd5c0"
   },
   "outputs": [
    {
     "name": "stdout",
     "output_type": "stream",
     "text": [
      "(diagnosed, kidney failure)\n"
     ]
    }
   ],
   "source": [
    "text = \"He was diagnosed with kidney failure\"\n",
    "doc = cat(text)\n",
    "print(doc.ents)"
   ]
  },
  {
   "cell_type": "code",
   "execution_count": 58,
   "metadata": {
    "colab": {
     "base_uri": "https://localhost:8080/",
     "height": 51
    },
    "colab_type": "code",
    "id": "kDN04vBbVffl",
    "outputId": "37f58a6b-54a0-454c-bd0b-7c0438064a0f"
   },
   "outputs": [
    {
     "name": "stdout",
     "output_type": "stream",
     "text": [
      "diagnosed  -  C0011900\n",
      "kidney failure  -  C0035078\n"
     ]
    }
   ],
   "source": [
    "# If we want to see the CUI (ID) for each entity\n",
    "for ent in doc.ents:\n",
    "    print(ent, \" - \", ent._.cui)"
   ]
  },
  {
   "cell_type": "code",
   "execution_count": 59,
   "metadata": {
    "colab": {
     "base_uri": "https://localhost:8080/",
     "height": 51
    },
    "colab_type": "code",
    "id": "ggj45cnLcAgh",
    "outputId": "16a47f36-1746-4943-df1b-f34e71638cdf"
   },
   "outputs": [
    {
     "name": "stdout",
     "output_type": "stream",
     "text": [
      "diagnosed  -  T033\n",
      "kidney failure  -  T047\n"
     ]
    }
   ],
   "source": [
    "# To show semantic types for each entity\n",
    "for ent in doc.ents:\n",
    "  print(ent, \" - \", ent._.tui)"
   ]
  },
  {
   "cell_type": "code",
   "execution_count": 60,
   "metadata": {
    "colab": {
     "base_uri": "https://localhost:8080/",
     "height": 51
    },
    "colab_type": "code",
    "id": "mmBIsAQHcEzn",
    "outputId": "ef7546b1-8f20-43b6-fabd-4f6ab8d087be"
   },
   "outputs": [
    {
     "name": "stdout",
     "output_type": "stream",
     "text": [
      "diagnosed  -  Finding\n",
      "kidney failure  -  Disease or Syndrome\n"
     ]
    }
   ],
   "source": [
    "# To show names for semenatic types\n",
    "for ent in doc.ents:\n",
    "  print(ent, \" - \", cdb.tui2name[ent._.tui])"
   ]
  },
  {
   "cell_type": "code",
   "execution_count": 61,
   "metadata": {
    "colab": {
     "base_uri": "https://localhost:8080/",
     "height": 52
    },
    "colab_type": "code",
    "id": "7hZPUuf1Vffo",
    "outputId": "6af32619-3d0b-4b81-ef53-10b869fe0def"
   },
   "outputs": [
    {
     "data": {
      "text/html": [
       "<span class=\"tex2jax_ignore\"><div class=\"entities\" style=\"line-height: 2.5; direction: ltr\">He was \n",
       "<mark class=\"entity\" style=\"background: #ddd; padding: 0.45em 0.6em; margin: 0 0.25em; line-height: 1; border-radius: 0.35em;\">\n",
       "    diagnosed\n",
       "    <span style=\"font-size: 0.8em; font-weight: bold; line-height: 1; border-radius: 0.35em; text-transform: uppercase; vertical-align: middle; margin-left: 0.5rem\">C0011900 - diagnosis - T033 - Finding - 0.34</span>\n",
       "</mark>\n",
       " with \n",
       "<mark class=\"entity\" style=\"background: #ddd; padding: 0.45em 0.6em; margin: 0 0.25em; line-height: 1; border-radius: 0.35em;\">\n",
       "    kidney failure\n",
       "    <span style=\"font-size: 0.8em; font-weight: bold; line-height: 1; border-radius: 0.35em; text-transform: uppercase; vertical-align: middle; margin-left: 0.5rem\">C0035078 - renal failure - T047 - Disease or Syndrome - 1.0</span>\n",
       "</mark>\n",
       "</div></span>"
      ],
      "text/plain": [
       "<IPython.core.display.HTML object>"
      ]
     },
     "metadata": {},
     "output_type": "display_data"
    }
   ],
   "source": [
    "# We can also show the entities in a nicer way using displacy form spaCy\n",
    "from spacy import displacy\n",
    "displacy.render(doc, style='ent', jupyter=True)"
   ]
  },
  {
   "cell_type": "markdown",
   "metadata": {
    "colab_type": "text",
    "id": "et68xVzxVffr"
   },
   "source": [
    "## Load the data"
   ]
  },
  {
   "cell_type": "code",
   "execution_count": 62,
   "metadata": {
    "colab": {},
    "colab_type": "code",
    "id": "j7krcYDyVffr"
   },
   "outputs": [],
   "source": [
    "# Load the dataset - the one we saved in the last step of Part 2.\n",
    "#If using MIMIC-III this is a very big dataset, be careful with memory requirements.\n",
    "data = pd.read_csv(DATA_DIR + \"data.csv\")"
   ]
  },
  {
   "cell_type": "code",
   "execution_count": 63,
   "metadata": {
    "colab": {
     "base_uri": "https://localhost:8080/",
     "height": 204
    },
    "colab_type": "code",
    "id": "nOPdyOoQVffv",
    "outputId": "2f21f832-3f97-4ae6-eca8-cc6cedd36ff8"
   },
   "outputs": [
    {
     "data": {
      "text/html": [
       "<div>\n",
       "<style scoped>\n",
       "    .dataframe tbody tr th:only-of-type {\n",
       "        vertical-align: middle;\n",
       "    }\n",
       "\n",
       "    .dataframe tbody tr th {\n",
       "        vertical-align: top;\n",
       "    }\n",
       "\n",
       "    .dataframe thead th {\n",
       "        text-align: right;\n",
       "    }\n",
       "</style>\n",
       "<table border=\"1\" class=\"dataframe\">\n",
       "  <thead>\n",
       "    <tr style=\"text-align: right;\">\n",
       "      <th></th>\n",
       "      <th>Unnamed: 0</th>\n",
       "      <th>subject_id</th>\n",
       "      <th>text</th>\n",
       "      <th>dob</th>\n",
       "      <th>gender</th>\n",
       "    </tr>\n",
       "  </thead>\n",
       "  <tbody>\n",
       "    <tr>\n",
       "      <th>0</th>\n",
       "      <td>0</td>\n",
       "      <td>84dd6378-2ddc-44b6-9292-2a4461bcef53</td>\n",
       "      <td>Sample Type / Medical Specialty:  Consult - Hi...</td>\n",
       "      <td>1998-12-01T00:00:00.000</td>\n",
       "      <td>M</td>\n",
       "    </tr>\n",
       "    <tr>\n",
       "      <th>1</th>\n",
       "      <td>1</td>\n",
       "      <td>9929044f-1f43-4453-b2c0-a2f45dcdd4be</td>\n",
       "      <td>Sample Type / Medical Specialty:  General Medi...</td>\n",
       "      <td>2014-09-23T00:00:00.000</td>\n",
       "      <td>M</td>\n",
       "    </tr>\n",
       "    <tr>\n",
       "      <th>2</th>\n",
       "      <td>2</td>\n",
       "      <td>9929044f-1f43-4453-b2c0-a2f45dcdd4be</td>\n",
       "      <td>Sample Type / Medical Specialty:  General Medi...</td>\n",
       "      <td>2014-09-23T00:00:00.000</td>\n",
       "      <td>M</td>\n",
       "    </tr>\n",
       "    <tr>\n",
       "      <th>3</th>\n",
       "      <td>3</td>\n",
       "      <td>9929044f-1f43-4453-b2c0-a2f45dcdd4be</td>\n",
       "      <td>Sample Type / Medical Specialty:  General Medi...</td>\n",
       "      <td>2014-09-23T00:00:00.000</td>\n",
       "      <td>M</td>\n",
       "    </tr>\n",
       "    <tr>\n",
       "      <th>4</th>\n",
       "      <td>4</td>\n",
       "      <td>9929044f-1f43-4453-b2c0-a2f45dcdd4be</td>\n",
       "      <td>Sample Type / Medical Specialty:  General Medi...</td>\n",
       "      <td>2014-09-23T00:00:00.000</td>\n",
       "      <td>M</td>\n",
       "    </tr>\n",
       "  </tbody>\n",
       "</table>\n",
       "</div>"
      ],
      "text/plain": [
       "   Unnamed: 0                            subject_id  \\\n",
       "0           0  84dd6378-2ddc-44b6-9292-2a4461bcef53   \n",
       "1           1  9929044f-1f43-4453-b2c0-a2f45dcdd4be   \n",
       "2           2  9929044f-1f43-4453-b2c0-a2f45dcdd4be   \n",
       "3           3  9929044f-1f43-4453-b2c0-a2f45dcdd4be   \n",
       "4           4  9929044f-1f43-4453-b2c0-a2f45dcdd4be   \n",
       "\n",
       "                                                text                      dob  \\\n",
       "0  Sample Type / Medical Specialty:  Consult - Hi...  1998-12-01T00:00:00.000   \n",
       "1  Sample Type / Medical Specialty:  General Medi...  2014-09-23T00:00:00.000   \n",
       "2  Sample Type / Medical Specialty:  General Medi...  2014-09-23T00:00:00.000   \n",
       "3  Sample Type / Medical Specialty:  General Medi...  2014-09-23T00:00:00.000   \n",
       "4  Sample Type / Medical Specialty:  General Medi...  2014-09-23T00:00:00.000   \n",
       "\n",
       "  gender  \n",
       "0      M  \n",
       "1      M  \n",
       "2      M  \n",
       "3      M  \n",
       "4      M  "
      ]
     },
     "execution_count": 63,
     "metadata": {},
     "output_type": "execute_result"
    }
   ],
   "source": [
    "# In this step we are only interested in the *text* column\n",
    "data.head()"
   ]
  },
  {
   "cell_type": "markdown",
   "metadata": {
    "colab_type": "text",
    "id": "3CERW88jVffz"
   },
   "source": [
    "## Run unsupervised training"
   ]
  },
  {
   "cell_type": "code",
   "execution_count": 64,
   "metadata": {
    "colab": {
     "base_uri": "https://localhost:8080/",
     "height": 374
    },
    "colab_type": "code",
    "id": "jHYbsOriVff0",
    "outputId": "dd698ca0-c47c-4a1e-8735-0583ed74851c",
    "scrolled": true
   },
   "outputs": [
    {
     "name": "stdout",
     "output_type": "stream",
     "text": [
      "Number of concepts: 34,632\n",
      "Number of names:    96,529\n",
      "Number of concepts that received training: 30,501\n",
      "Number of seen training examples in total: 624,019\n",
      "Average training examples per concept:     20.5\n",
      "Finished 0 - text blocks\n",
      "Finished 100 - text blocks\n",
      "Finished 200 - text blocks\n",
      "Finished 300 - text blocks\n",
      "Finished 400 - text blocks\n",
      "Finished 500 - text blocks\n",
      "Finished 600 - text blocks\n",
      "Finished 700 - text blocks\n",
      "Finished 800 - text blocks\n",
      "Finished 900 - text blocks\n",
      "Finished 1000 - text blocks\n",
      "Number of concepts: 34,632\n",
      "Number of names:    96,529\n",
      "Number of concepts that received training: 30,510\n",
      "Number of seen training examples in total: 758,486\n",
      "Average training examples per concept:     24.9\n"
     ]
    }
   ],
   "source": [
    "# The first step that we want to do when using MedCAT is unsupervised training, it is in detail \n",
    "#explain in the paper: https://arxiv.org/abs/1912.10166\n",
    "# To run it we first set CAT into the train mode\n",
    "cat.train = True\n",
    "\n",
    "# Print statistics on the CDB before training (note that if you are using the \n",
    "#medmen cdb it will already have some training)\n",
    "cat.cdb.print_stats()\n",
    "\n",
    "# Run the annotation procedure over all the documents we have,\n",
    "#given that we have a large number of documents this can take quite some time.\n",
    "#~2 days, but you don't need to run it over everything 500K docs is enough\n",
    "for i, text in enumerate(data['text'].values):\n",
    "    # This will now run the training in the background \n",
    "    _ = cat(text)\n",
    "    \n",
    "    # So we know how things are moving\n",
    "    if i % 100 == 0:\n",
    "        print(\"Finished {} - text blocks\".format(i))\n",
    "\n",
    "# Print statistics on the CDB after training\n",
    "cat.cdb.print_stats()\n",
    "\n",
    "# Disable the training mode\n",
    "cat.train = False"
   ]
  },
  {
   "cell_type": "markdown",
   "metadata": {
    "colab_type": "text",
    "id": "9Wf7ugKkVff3"
   },
   "source": [
    "## Annotate Documents"
   ]
  },
  {
   "cell_type": "markdown",
   "metadata": {
    "colab_type": "text",
    "id": "rpzhuFFyVff3"
   },
   "source": [
    "We are not interested in all medical concepts that exist in UMLS, that is why we will filter by Semantic Type (TUI) to only:\n",
    "1. T047 - Disease or Syndrom\n",
    "2. T048 - Mental or Behavioral Dysfunction\n",
    "\n",
    "It is possible to filter after the detection process, but always better to define the filter as part of MedCAT\n",
    "\n",
    "A full list of semantic types in UMLS is available [here](https://metamap.nlm.nih.gov/Docs/SemanticTypes_2018AB.txt)."
   ]
  },
  {
   "cell_type": "code",
   "execution_count": 65,
   "metadata": {
    "colab": {},
    "colab_type": "code",
    "id": "8WAS38nNVff4"
   },
   "outputs": [],
   "source": [
    "# IMPORTANT: Set TUI filters\n",
    "cat.spacy_cat.TUI_FILTER = ['T047', 'T048']"
   ]
  },
  {
   "cell_type": "markdown",
   "metadata": {
    "colab_type": "text",
    "id": "HSMCmCkQVff6"
   },
   "source": [
    "For each row in our dataframe `data` we want to get all diseases that appear in the `text` column. In UMLS a disease is defined by a CUI, so we want to have the following output after the annotation is done:\n",
    "```\n",
    "cui_location = {<CUI>: [<row_id>, <row_id>, ...], ...}\n",
    "```"
   ]
  },
  {
   "cell_type": "code",
   "execution_count": 66,
   "metadata": {
    "colab": {},
    "colab_type": "code",
    "id": "RHrN0ikXVff6"
   },
   "outputs": [],
   "source": [
    "# This will be a map from CUI to a list of documents where it appears: {\"cui\": [<doc_id>, <doc_id>, ...], ..}\n",
    "cui_location = {}\n",
    "# Let's also save the TUI location (semantic type)\n",
    "tui_location = {}"
   ]
  },
  {
   "cell_type": "markdown",
   "metadata": {
    "colab_type": "text",
    "id": "rfHRh8C9Vff9"
   },
   "source": [
    "### Use Multiprocessing\n",
    "\n",
    "We can annotate documents one by one, using the `annotated_document = cat(text)` option, but it will work much faster if we do it using the `multi_processing` method from medcat.\n",
    "\n",
    "When using multi_processing medcat requires the following format for input documents:\n",
    "```\n",
    "in_data = [(doc_id, doc_text), (doc_id, doc_text), ...]\n",
    "```\n",
    "The output is (return from medcat):\n",
    "```\n",
    "out_data = [(doc_id, {'entities': [...], 'text': <...>), (doc_id, {'entities': [...], 'text': <...>}), ...]\n",
    "```\n",
    "\n",
    "NOTE: If using the full UMLS CDB and a lot of processors (e.g. 32) it is very memory demanding (~ 32GB). The annotation process on 32 processors and 1M large text documents takes ~1h. "
   ]
  },
  {
   "cell_type": "code",
   "execution_count": 67,
   "metadata": {
    "colab": {
     "base_uri": "https://localhost:8080/",
     "height": 54
    },
    "colab_type": "code",
    "id": "6RET9-y9xZGK",
    "outputId": "ca006d21-3ea8-4385-b8e9-f9fd864b1dc1"
   },
   "outputs": [
    {
     "name": "stdout",
     "output_type": "stream",
     "text": [
      "[(1, {'entities': [{'pretty_name': 'renal failure', 'cui': 'C0035078', 'tui': 'T047', 'type': 'Disease or Syndrome', 'source_value': 'kidney failure', 'acc': '1', 'start': 7, 'end': 21, 'info': {}, 'id': '0', 'meta_anns': {}}], 'text': 'He had kidney failure'})]\n"
     ]
    }
   ],
   "source": [
    "# Let's test the multi processing function first\n",
    "in_data = [(1, \"He had kidney failure\")]\n",
    "results = cat.multi_processing(in_data, nproc=2)\n",
    "print(results)"
   ]
  },
  {
   "cell_type": "markdown",
   "metadata": {
    "colab_type": "text",
    "id": "YIw5f-SpyoPC"
   },
   "source": [
    "The returned list of `entities` contains the following:\n",
    "\n",
    "`cui` - ID of the detected entity in the CDB (in our case UMLS)\n",
    "\n",
    "`tui` - Semantic type ID\n",
    "\n",
    "`type` - Semantic type\n",
    "\n",
    "`source_value` - What exact source value was detected\n",
    "\n",
    "`acc` - Confidence score for this detection\n",
    "\n",
    "`start` - The start character for the entity in the original string\n",
    "\n",
    "`end` - End character for the entity in the original string\n",
    "\n",
    "`id` - Internal ID, each entity inside a document has an unique ID\n",
    "\n",
    "`pretty_name` - The pretty name for this entity linked with the CUI\n",
    "\n",
    "`icd10` - If we are using a medical CDB, we'll also get ICD10 codes\n",
    "\n",
    "`umls` - If the CDB was something other than UMLS, we would get the potential link to UMLS.\n",
    "\n",
    "`snomed` - If we ar eusing a medical CDB this would link to the equivalent SNOMED concept"
   ]
  },
  {
   "cell_type": "code",
   "execution_count": 68,
   "metadata": {
    "colab": {
     "base_uri": "https://localhost:8080/",
     "height": 34
    },
    "colab_type": "code",
    "id": "ietr5lx6yMMJ",
    "outputId": "b835e47d-4204-49fb-c5c5-827ab6e9c673"
   },
   "outputs": [
    {
     "name": "stdout",
     "output_type": "stream",
     "text": [
      "[(1, {'entities': ['C0035078'], 'text': 'He had kidney failure'})]\n"
     ]
    }
   ],
   "source": [
    "# If we have a use-case (like ours) where we do not care about anything else but the \n",
    "#detected CUI (ID of the concept), we can do the following:\n",
    "in_data = [(1, \"He had kidney failure\")]\n",
    "results = cat.multi_processing(in_data, nproc=2, only_cui=True)\n",
    "print(results)"
   ]
  },
  {
   "cell_type": "code",
   "execution_count": 69,
   "metadata": {
    "colab": {
     "base_uri": "https://localhost:8080/",
     "height": 34
    },
    "colab_type": "code",
    "id": "QwC8bYbXVff9",
    "outputId": "434ac255-7e42-4198-974c-84bedfe859cc",
    "scrolled": true
   },
   "outputs": [
    {
     "name": "stdout",
     "output_type": "stream",
     "text": [
      "Done: 1044 - rows\n"
     ]
    }
   ],
   "source": [
    "batch_size = 10000 \n",
    "batch = []\n",
    "cnt = 0\n",
    "for id, row in data.iterrows():\n",
    "    text = row['text']\n",
    "    # Skip text if under 10 characters, not really necessary as we have filtered before,\n",
    "    #but I like to be sure.\n",
    "    if len(text) > 10:\n",
    "        batch.append((id, text))\n",
    "    \n",
    "    if len(batch) > batch_size or id == len(data) - 1:\n",
    "        # Update the number of processors depending on your machine.\n",
    "        #We are using the only_cui option, means the \n",
    "        #returned entities will only have a CUI (no other information, try both\n",
    "        #if interested).\n",
    "        results = cat.multi_processing(batch, nproc=2, only_cui=True)\n",
    "        \n",
    "        for pair in results:\n",
    "            row_id = pair[0]\n",
    "            cui_list = set(pair[1]['entities']) # Convert to set to get unique CUIs\n",
    "            \n",
    "            for cui in cui_list:\n",
    "                if cui in cui_location:\n",
    "                    cui_location[cui].append(row_id)\n",
    "                else:\n",
    "                    cui_location[cui] = [row_id]\n",
    "\n",
    "                # This is not necessary as it can be done later, we have\n",
    "                #the cdb.cui2tui map. But whatever\n",
    "                tui = cdb.cui2tui[cui]\n",
    "                if tui in tui_location and row_id not in tui_location[tui]:\n",
    "                    tui_location[tui].append(row_id)\n",
    "                elif tui not in tui_location:\n",
    "                    tui_location[tui] = [row_id]\n",
    "        \n",
    "        cnt += 1\n",
    "        print(\"Done: {} - rows\".format((cnt -1)*batch_size + len(batch)))\n",
    "        \n",
    "        # Reset the batch\n",
    "        batch = []"
   ]
  },
  {
   "cell_type": "markdown",
   "metadata": {
    "colab_type": "text",
    "id": "p3ykzPULg8Y4"
   },
   "source": [
    "In this case we did not care about the full results from medcat, we only needed to know for each CUI (disease ID), where it appeared."
   ]
  },
  {
   "cell_type": "code",
   "execution_count": 70,
   "metadata": {
    "colab": {
     "base_uri": "https://localhost:8080/",
     "height": 428
    },
    "colab_type": "code",
    "id": "7PxUejjbgWAX",
    "outputId": "96ce0acb-5f20-40ca-84a3-9f40f58ff8bc"
   },
   "outputs": [
    {
     "data": {
      "text/plain": [
       "(0,\n",
       " {'entities': ['C0004238',\n",
       "   'C0020538',\n",
       "   'C0020443',\n",
       "   'C0004238',\n",
       "   'C0004238',\n",
       "   'C0020538',\n",
       "   'C0020443',\n",
       "   'C0004238',\n",
       "   'C0004238',\n",
       "   'C0018799',\n",
       "   'C0020538',\n",
       "   'C0027051',\n",
       "   'C0020443',\n",
       "   'C0003864',\n",
       "   'C0000833',\n",
       "   'C0007222',\n",
       "   'C0242510',\n",
       "   'C0038454',\n",
       "   'C0004238',\n",
       "   'C0004238',\n",
       "   'C0038454',\n",
       "   'C0277556',\n",
       "   'C0004238'],\n",
       "  'text': \"Sample Type / Medical Specialty:  Consult - History and Phy.\\n\\nSample Name: Atrial Fibrillation Management \\nDescription: The patient is a very pleasant 62-year-old African American female with a history of hypertension, hypercholesterolemia, and CVA, referred for evaluation and management of atrial fibrillation.\\n\\n(Medical Transcription Sample Report)\\n\\n-----\\n\\n\\nREASON FOR CONSULTATION:  Atrial fibrillation management.\\n\\nHISTORY OF PRESENT ILLNESS: The patient is a very pleasant 62-year-old African American female with a history of hypertension, hypercholesterolemia, and CVA, referred by Dr. X for evaluation and management of atrial fibrillation.  The patient states that on Monday during routine Holt exam, it was detected by Dr. X that her heart was irregular on exam.  EKG obtained after that revealed atrial fibrillation, and subsequently the patient was started on Coumadin as well as having Toprol and referred for evaluation.  The patient states that for the last 3 years, she has had episodes of her heart racing.  It may last for minutes up to most 1 hour, and it will occasionally be related to eating a heavy meal or her caffeine or chocolate intake.  Denies dyspnea, diaphoresis, presyncope or syncope with the events, and she has had no episodes of chest pain.  They subsequently resolve on their own and do not limit her in anyway.  However, she states that for the last several years may be up to 7 years that she can recollect that she has been fatigued, and over the past couple of years, her symptoms have become more severe.  She said she can walk no more than 25 feet without becoming tired.  She states that she has to rest then her symptoms will go away, but she has been limited from that standpoint.  Denies peripheral edema, PND, orthopnea, abdominal pain, swelling, recent fever or chills.  She actually today has no complaints, and states that she has been compliant with her medications and has started taking her Coumadin as directed.\\n\\nPAST MEDICAL HISTORY:\\n1.  Hypertension.\\n2.  Myocardial infarction in 2003.\\n3.  Left heart catheterization at University Hospital.\\n4.  Hypercholesterolemia.\\n5.  Arthritis.\\n6.  CVA in 2002 and in 2003 with right eye blindness.\\n\\nPAST SURGICAL HISTORY:\\n1.  Left total knee replacement in 2002.\\n2.  Left lower quadrant abscess drainage in 12/07\\n\\nFAMILY MEDICAL HISTORY:  Significant for lung and brain cancer.  There is no history that she is aware of cardiovascular disease in her family nor has any family member had sudden cardiac death.\\n\\nSOCIAL HISTORY:  She is retired as a cook in a school cafeteria, where she worked for 34 years.  She retired 7 years ago because of low back pain.  She used to smoke 2-1/2 packs per day for 32 years, but quit in 1995.  Denies alcohol, and denies IV or illicit drug use.\\n\\nALLERGIES:  No known drug allergies.\\n\\nMEDICATIONS:\\n1.  Coumadin 5 mg a day.\\n2.  Toprol-XL 50 mg a day.\\n3.  Aspirin 81 mg a day.\\n4.  Hydrochlorothiazide 25 mg a day.\\n5.  Plendil 10 mg daily.\\n6.  Lipitor 40 mg daily.\\n\\nREVIEW OF SYSTEMS:  As above stating that following her stroke, she has right eye blindness, but she does have some minimal vision in her periphery.\\n\\nPHYSICAL EXAMINATION:\\nVITAL SIGNS:  Blood pressure 138/66, pulse 96, and weight 229 pounds or 104 kg.  GENERAL:  A well-developed, well-nourished, middle-aged African American female in no acute distress.  NECK:  Supple.  No JVD.  No carotid bruits.  CARDIOVASCULAR:  Irregularly irregular rate and rhythm.  Normal S1 and S2.  No murmurs, gallops or rubs.  LUNGS:  Clear to auscultation bilaterally.  ABDOMEN:  Bowel sounds positive, soft, nontender, and nondistended.  No masses.  EXTREMITIES:  No clubbing, cyanosis or edema.  Pulses 2+ bilaterally.\\n\\nLABORATORY DATA:  EKG today revealed atrial fibrillation with nonspecific lateral T-wave abnormalities and a rate of 94.\\n\\nIMPRESSION:  The patient is a very pleasant 62-year-old African American female with atrial fibrillation of unknown duration with symptoms of paroxysmal episodes of palpitations, doing well today.\\n\\nRECOMMENDATIONS:\\n1.  Her rate is suboptimally controlled, we will increase her Toprol-XL to 75 mg per day.\\n2.  We will obtain a transthoracic echocardiogram to evaluate her LV function as well as her valvular function.\\n3.  We will check a thyroid function panel.\\n4.  We will continue Coumadin as directed and to follow up with Dr. X for INR management.\\n5.  Given the patient's history of a stroke in her age and recurrent atrial fibrillation, the patient should be continued on Coumadin indefinitely.\\n6.  Depending upon the results of her transthoracic echocardiogram, the patient may benefit from repeat heart catheterization.  We will await results of transthoracic echocardiogram.\\n7.  We will arrange for the patient to wear a Holter monitor to monitor the rate controlled on a 24-hour period.  She will then return to the electrophysiology clinic in 1 month for followup visit with Dr. Y.\\n\\nThe patient was seen, discussed, and examined with Dr. Y in electrophysiology.\"})"
      ]
     },
     "execution_count": 70,
     "metadata": {},
     "output_type": "execute_result"
    }
   ],
   "source": [
    "# Check one of the returned results, just in case\n",
    "results[0]"
   ]
  },
  {
   "cell_type": "code",
   "execution_count": 72,
   "metadata": {
    "colab": {
     "base_uri": "https://localhost:8080/",
     "height": 34
    },
    "colab_type": "code",
    "id": "0IN7FeHbhF5Y",
    "outputId": "e48fd94c-2cd1-46d0-f96e-f0b850ac6afc"
   },
   "outputs": [
    {
     "data": {
      "text/plain": [
       "'heart diseases'"
      ]
     },
     "execution_count": 72,
     "metadata": {},
     "output_type": "execute_result"
    }
   ],
   "source": [
    "# If we want to convert a CUI back to its name\n",
    "cdb.cui2pretty_name['C0018799']"
   ]
  },
  {
   "cell_type": "code",
   "execution_count": 73,
   "metadata": {
    "colab": {},
    "colab_type": "code",
    "id": "_7lSXtHEVfgA"
   },
   "outputs": [],
   "source": [
    "# Save the data so that we don't have to do the annotation again\n",
    "import pickle\n",
    "pickle.dump(cui_location, open(DATA_DIR + \"cui_location.dat\", 'wb'))\n",
    "pickle.dump(tui_location, open(DATA_DIR + \"tui_location.dat\", 'wb'))"
   ]
  },
  {
   "cell_type": "code",
   "execution_count": 74,
   "metadata": {
    "colab": {},
    "colab_type": "code",
    "id": "Am1xTX25VfgC"
   },
   "outputs": [],
   "source": [
    "# Load\n",
    "import pickle\n",
    "cui_location = pickle.load(open(DATA_DIR + \"cui_location.dat\", 'rb'))\n",
    "tui_location = pickle.load(open(DATA_DIR + \"tui_location.dat\", 'rb'))"
   ]
  },
  {
   "cell_type": "markdown",
   "metadata": {
    "colab_type": "text",
    "id": "1fkbtINHVfgF"
   },
   "source": [
    "## Plot a couple of things\n",
    "This is not necessary at this stage, but to be sure things are ok we will still do it"
   ]
  },
  {
   "cell_type": "code",
   "execution_count": 75,
   "metadata": {
    "colab": {},
    "colab_type": "code",
    "id": "8lrAhiODVfgF"
   },
   "outputs": [],
   "source": [
    "# We are going to count the number of subjects (patietns) for each CUI\n",
    "cui_subjects = {}\n",
    "cui_subjects_unique = {}\n",
    "for cui in cui_location:\n",
    "    for location in cui_location[cui]:\n",
    "        subject_id = data.iat[location, list(data.columns).index('subject_id')]\n",
    "        if cui in cui_subjects:\n",
    "            cui_subjects[cui].append(subject_id)\n",
    "            cui_subjects_unique[cui].add(subject_id)\n",
    "        else:\n",
    "            cui_subjects[cui] = [subject_id]\n",
    "            cui_subjects_unique[cui] = {subject_id}"
   ]
  },
  {
   "cell_type": "code",
   "execution_count": 76,
   "metadata": {
    "colab": {},
    "colab_type": "code",
    "id": "8u6jOrsJVfgH"
   },
   "outputs": [],
   "source": [
    "cui_nsubjects = [('cui', 'nsubjects')]\n",
    "for cui in cui_subjects_unique.keys():\n",
    "    cui_nsubjects.append((cui, len(cui_subjects_unique[cui])))\n",
    "df_cui_nsubjects = pd.DataFrame(cui_nsubjects[1:], columns=cui_nsubjects[0])"
   ]
  },
  {
   "cell_type": "markdown",
   "metadata": {
    "colab_type": "text",
    "id": "0P1YlxKwVfgJ"
   },
   "source": [
    "Add a couple of columns that can be useful"
   ]
  },
  {
   "cell_type": "code",
   "execution_count": 77,
   "metadata": {
    "colab": {
     "base_uri": "https://localhost:8080/",
     "height": 204
    },
    "colab_type": "code",
    "id": "bgMVLkQLVfgK",
    "outputId": "20fa7cd5-33ec-488e-e37d-fc91c272d343"
   },
   "outputs": [
    {
     "data": {
      "text/html": [
       "<div>\n",
       "<style scoped>\n",
       "    .dataframe tbody tr th:only-of-type {\n",
       "        vertical-align: middle;\n",
       "    }\n",
       "\n",
       "    .dataframe tbody tr th {\n",
       "        vertical-align: top;\n",
       "    }\n",
       "\n",
       "    .dataframe thead th {\n",
       "        text-align: right;\n",
       "    }\n",
       "</style>\n",
       "<table border=\"1\" class=\"dataframe\">\n",
       "  <thead>\n",
       "    <tr style=\"text-align: right;\">\n",
       "      <th></th>\n",
       "      <th>cui</th>\n",
       "      <th>nsubjects</th>\n",
       "      <th>tui</th>\n",
       "      <th>name</th>\n",
       "      <th>perc_subjects</th>\n",
       "    </tr>\n",
       "  </thead>\n",
       "  <tbody>\n",
       "    <tr>\n",
       "      <th>9</th>\n",
       "      <td>C0020538</td>\n",
       "      <td>51</td>\n",
       "      <td>T047</td>\n",
       "      <td>hypertension</td>\n",
       "      <td>54.255319</td>\n",
       "    </tr>\n",
       "    <tr>\n",
       "      <th>8</th>\n",
       "      <td>C0018799</td>\n",
       "      <td>30</td>\n",
       "      <td>T047</td>\n",
       "      <td>heart diseases</td>\n",
       "      <td>31.914894</td>\n",
       "    </tr>\n",
       "    <tr>\n",
       "      <th>15</th>\n",
       "      <td>C0497156</td>\n",
       "      <td>23</td>\n",
       "      <td>T047</td>\n",
       "      <td>lymphadenopathy</td>\n",
       "      <td>24.468085</td>\n",
       "    </tr>\n",
       "    <tr>\n",
       "      <th>38</th>\n",
       "      <td>C0012634</td>\n",
       "      <td>21</td>\n",
       "      <td>T047</td>\n",
       "      <td>disease</td>\n",
       "      <td>22.340426</td>\n",
       "    </tr>\n",
       "    <tr>\n",
       "      <th>98</th>\n",
       "      <td>C0041834</td>\n",
       "      <td>21</td>\n",
       "      <td>T047</td>\n",
       "      <td>redness</td>\n",
       "      <td>22.340426</td>\n",
       "    </tr>\n",
       "  </tbody>\n",
       "</table>\n",
       "</div>"
      ],
      "text/plain": [
       "         cui  nsubjects   tui             name  perc_subjects\n",
       "9   C0020538         51  T047     hypertension      54.255319\n",
       "8   C0018799         30  T047   heart diseases      31.914894\n",
       "15  C0497156         23  T047  lymphadenopathy      24.468085\n",
       "38  C0012634         21  T047          disease      22.340426\n",
       "98  C0041834         21  T047          redness      22.340426"
      ]
     },
     "execution_count": 77,
     "metadata": {},
     "output_type": "execute_result"
    }
   ],
   "source": [
    "df_cui_nsubjects = df_cui_nsubjects.sort_values('nsubjects', ascending=False)\n",
    "# Add TUI for each CUI\n",
    "df_cui_nsubjects['tui'] = ['unk'] * len(df_cui_nsubjects)\n",
    "cols = list(df_cui_nsubjects.columns)\n",
    "for i in range(len(df_cui_nsubjects)):\n",
    "    cui = df_cui_nsubjects.iat[i, cols.index('cui')]\n",
    "    tui = cdb.cui2tui.get(cui, 'unk')\n",
    "    df_cui_nsubjects.iat[i, cols.index('tui')] = tui\n",
    "    \n",
    "# Add name for each CUI\n",
    "df_cui_nsubjects['name'] = ['unk'] * len(df_cui_nsubjects)\n",
    "cols = list(df_cui_nsubjects.columns)\n",
    "for i in range(len(df_cui_nsubjects)):\n",
    "    cui = df_cui_nsubjects.iat[i, cols.index('cui')]\n",
    "    name = cdb.cui2pretty_name.get(cui, 'unk')\n",
    "    df_cui_nsubjects.iat[i, cols.index('name')] = name\n",
    "\n",
    "\n",
    "# Add the percentage column\n",
    "total_subjects = len(data['subject_id'].unique())\n",
    "df_cui_nsubjects['perc_subjects'] = (df_cui_nsubjects['nsubjects'] / total_subjects) * 100\n",
    "\n",
    "df_cui_nsubjects.head()"
   ]
  },
  {
   "cell_type": "code",
   "execution_count": 78,
   "metadata": {
    "colab": {
     "base_uri": "https://localhost:8080/",
     "height": 1000
    },
    "colab_type": "code",
    "id": "TupbSS6OVfgM",
    "outputId": "71247704-e82b-4d3f-f001-c7f8996b6fa5",
    "scrolled": false
   },
   "outputs": [
    {
     "data": {
      "image/png": "[encoded data removed]",
      "text/plain": [
       "<Figure size 500x1200 with 1 Axes>"
      ]
     },
     "metadata": {},
     "output_type": "display_data"
    }
   ],
   "source": [
    "# Plot the top 30 diseases\n",
    "sns.reset_defaults()\n",
    "sns.set(\n",
    "    rc={'figure.figsize':(5,12)}, \n",
    "    style=\"whitegrid\",\n",
    "    palette='pastel'\n",
    ")\n",
    "f, ax = plt.subplots()\n",
    "_data = df_cui_nsubjects.iloc[0:30]\n",
    "sns.barplot(x=\"perc_subjects\", y=\"name\", data=_data, label=\"Disorder Name\", color=\"b\")\n",
    "_ = ax.set(xlim=(0, 70), ylabel=\"Disease Name\", xlabel=\"Percentage of patients with disease\")\n",
    "plt.show()"
   ]
  },
  {
   "cell_type": "markdown",
   "metadata": {
    "colab_type": "text",
    "id": "-ChkW6MiVfgO"
   },
   "source": [
    "## Preparing data for supervised training (MedCATtrainer)\n",
    "\n",
    "As we want to do some fine-tuning on the models and also some meta-annotations (e.g. Status and Temporality), we'll take the top 100 CUIs from each TUI and for each take 2 examples. We'll do this because randomly choosing documents will give us only (most likely) the concpets on the very top by frequency (especially when there is a large drop between the top concepts).\n",
    "\n",
    "The required output format for supervised training via MedCATtrainer is CSV with `columns=(name, text)`"
   ]
  },
  {
   "cell_type": "code",
   "execution_count": 83,
   "metadata": {
    "colab": {},
    "colab_type": "code",
    "id": "ghSpoAbJVfgO"
   },
   "outputs": [],
   "source": [
    "# For each of the top 40 diseases/mental_disorders take 2 examples of documents/text\n",
    "#where they appear\n",
    "nexamples = 2\n",
    "size = 40\n",
    "loc_047_top = []\n",
    "loc_048_top = []\n",
    "\n",
    "for cui in df_cui_nsubjects[df_cui_nsubjects['tui'] == 'T047']['cui'].values[0:size]:\n",
    "    loc_047_top.extend(np.array(cui_location[cui])[np.random.randint(0, len(cui_location[cui]), nexamples)])\n",
    "    \n",
    "for cui in df_cui_nsubjects[df_cui_nsubjects['tui'] == 'T048']['cui'].values[0:size]:\n",
    "    loc_048_top.extend(np.array(cui_location[cui])[np.random.randint(0, len(cui_location[cui]), nexamples)])\n",
    "\n",
    "data_047_top = data.iloc[loc_047_top]\n",
    "data_048_top = data.iloc[loc_048_top]"
   ]
  },
  {
   "cell_type": "code",
   "execution_count": 84,
   "metadata": {
    "colab": {},
    "colab_type": "code",
    "id": "7L8UhCSsVfgQ"
   },
   "outputs": [],
   "source": [
    "# Combine everything\n",
    "train_data = pd.concat([data_047_top, data_048_top])"
   ]
  },
  {
   "cell_type": "code",
   "execution_count": 85,
   "metadata": {
    "colab": {
     "base_uri": "https://localhost:8080/",
     "height": 204
    },
    "colab_type": "code",
    "id": "n-ds8nosVfgR",
    "outputId": "c6eb44db-fe32-496c-9854-83b7ab195200"
   },
   "outputs": [
    {
     "name": "stdout",
     "output_type": "stream",
     "text": [
      "160\n"
     ]
    },
    {
     "data": {
      "text/html": [
       "<div>\n",
       "<style scoped>\n",
       "    .dataframe tbody tr th:only-of-type {\n",
       "        vertical-align: middle;\n",
       "    }\n",
       "\n",
       "    .dataframe tbody tr th {\n",
       "        vertical-align: top;\n",
       "    }\n",
       "\n",
       "    .dataframe thead th {\n",
       "        text-align: right;\n",
       "    }\n",
       "</style>\n",
       "<table border=\"1\" class=\"dataframe\">\n",
       "  <thead>\n",
       "    <tr style=\"text-align: right;\">\n",
       "      <th></th>\n",
       "      <th>name</th>\n",
       "      <th>text</th>\n",
       "    </tr>\n",
       "  </thead>\n",
       "  <tbody>\n",
       "    <tr>\n",
       "      <th>891</th>\n",
       "      <td>891</td>\n",
       "      <td>Sample Type / Medical Specialty:  Consult - Hi...</td>\n",
       "    </tr>\n",
       "    <tr>\n",
       "      <th>829</th>\n",
       "      <td>829</td>\n",
       "      <td>Sample Type / Medical Specialty:  Consult - Hi...</td>\n",
       "    </tr>\n",
       "    <tr>\n",
       "      <th>738</th>\n",
       "      <td>738</td>\n",
       "      <td>Sample Type / Medical Specialty:  General Medi...</td>\n",
       "    </tr>\n",
       "    <tr>\n",
       "      <th>684</th>\n",
       "      <td>684</td>\n",
       "      <td>Sample Type / Medical Specialty:  General Medi...</td>\n",
       "    </tr>\n",
       "    <tr>\n",
       "      <th>259</th>\n",
       "      <td>259</td>\n",
       "      <td>Sample Type / Medical Specialty:  General Medi...</td>\n",
       "    </tr>\n",
       "  </tbody>\n",
       "</table>\n",
       "</div>"
      ],
      "text/plain": [
       "     name                                               text\n",
       "891   891  Sample Type / Medical Specialty:  Consult - Hi...\n",
       "829   829  Sample Type / Medical Specialty:  Consult - Hi...\n",
       "738   738  Sample Type / Medical Specialty:  General Medi...\n",
       "684   684  Sample Type / Medical Specialty:  General Medi...\n",
       "259   259  Sample Type / Medical Specialty:  General Medi..."
      ]
     },
     "execution_count": 85,
     "metadata": {},
     "output_type": "execute_result"
    }
   ],
   "source": [
    "train_data = train_data.rename(columns={'Unnamed: 0': \"name\"})\n",
    "train_data = train_data[['name', 'text']]\n",
    "print(len(train_data))\n",
    "train_data.head()"
   ]
  },
  {
   "cell_type": "code",
   "execution_count": 86,
   "metadata": {
    "colab": {},
    "colab_type": "code",
    "id": "HvrkaDbBVfgU"
   },
   "outputs": [],
   "source": [
    "# Remove duplicates if we have them. \n",
    "train_data = train_data.drop_duplicates(['text'])\n",
    "\n",
    "# Save the data so that it can be imported into MedCATtrainer\n",
    "train_data.to_csv(DATA_DIR + \"train_data.csv\", index=False)"
   ]
  },
  {
   "cell_type": "code",
   "execution_count": null,
   "metadata": {},
   "outputs": [],
   "source": []
  }
 ],
 "metadata": {
  "colab": {
   "collapsed_sections": [],
   "name": "MedCAT Tutorial | Part 3.2 - Extracting Diseases from Electronic Health Records.ipynb",
   "provenance": []
  },
  "kernelspec": {
   "display_name": "Python 3",
   "language": "python",
   "name": "python3"
  },
  "language_info": {
   "codemirror_mode": {
    "name": "ipython",
    "version": 3
   },
   "file_extension": ".py",
   "mimetype": "text/x-python",
   "name": "python",
   "nbconvert_exporter": "python",
   "pygments_lexer": "ipython3",
   "version": "3.8.0"
  }
 },
 "nbformat": 4,
 "nbformat_minor": 1
}
